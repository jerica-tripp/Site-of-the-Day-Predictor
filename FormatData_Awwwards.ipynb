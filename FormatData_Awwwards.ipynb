{
 "cells": [
  {
   "cell_type": "code",
   "execution_count": 96,
   "id": "47a98750",
   "metadata": {
    "tags": []
   },
   "outputs": [],
   "source": [
    "import imageio as iio\n",
    "import visvis as vv\n",
    "import numpy as np\n",
    "import matplotlib\n",
    "import matplotlib.pyplot as pyplot\n",
    "import pandas as pd\n",
    "from PIL import Image\n",
    "import csv\n",
    "import os\n",
    "%matplotlib inline\n",
    "pd.options.mode.chained_assignment = None  \n",
    "\n",
    "# Set working directories\n",
    "directory = r'C:\\Users\\jeric\\OneDrive\\Documents\\classFiles\\DSC680\\Project_1-new\\puppeteer_scrape\\images\\\\'\n",
    "directory2 = r'C:\\Users\\jeric\\OneDrive\\Documents\\classFiles\\DSC680\\Project_1-new\\puppeteer_scrape\\thumbs\\\\'\n",
    "directory3 = r'C:\\Users\\jeric\\OneDrive\\Documents\\classFiles\\DSC680\\Project_1-new\\puppeteer_scrape\\thumbs_min\\\\'"
   ]
  },
  {
   "cell_type": "markdown",
   "id": "de887cfa",
   "metadata": {},
   "source": [
    "####  Bring in the Winner's csv data"
   ]
  },
  {
   "cell_type": "code",
   "execution_count": 97,
   "id": "a03e40dd",
   "metadata": {},
   "outputs": [
    {
     "name": "stdout",
     "output_type": "stream",
     "text": [
      "Rows in df: 4686\n"
     ]
    },
    {
     "data": {
      "text/html": [
       "<div>\n",
       "<style scoped>\n",
       "    .dataframe tbody tr th:only-of-type {\n",
       "        vertical-align: middle;\n",
       "    }\n",
       "\n",
       "    .dataframe tbody tr th {\n",
       "        vertical-align: top;\n",
       "    }\n",
       "\n",
       "    .dataframe thead th {\n",
       "        text-align: right;\n",
       "    }\n",
       "</style>\n",
       "<table border=\"1\" class=\"dataframe\">\n",
       "  <thead>\n",
       "    <tr style=\"text-align: right;\">\n",
       "      <th></th>\n",
       "      <th>hash</th>\n",
       "      <th>site_nm</th>\n",
       "      <th>date</th>\n",
       "      <th>country</th>\n",
       "      <th>img_url</th>\n",
       "      <th>img_full_nm</th>\n",
       "      <th>winner</th>\n",
       "    </tr>\n",
       "  </thead>\n",
       "  <tbody>\n",
       "    <tr>\n",
       "      <th>0</th>\n",
       "      <td>8ddbf2f936a5fca98539799183a36a2b</td>\n",
       "      <td>Marble</td>\n",
       "      <td>June 11, 2022</td>\n",
       "      <td>Netherlands</td>\n",
       "      <td>https://assets.awwwards.com/awards/media/cache...</td>\n",
       "      <td>8ddbf2f936a5fca98539799183a36a2b.jpg</td>\n",
       "      <td>1</td>\n",
       "    </tr>\n",
       "    <tr>\n",
       "      <th>1</th>\n",
       "      <td>b4ef75558f97d08d285bce6174d1dd84</td>\n",
       "      <td>POLA: Mother's Day</td>\n",
       "      <td>June 10, 2022</td>\n",
       "      <td>Japan</td>\n",
       "      <td>https://assets.awwwards.com/awards/media/cache...</td>\n",
       "      <td>b4ef75558f97d08d285bce6174d1dd84.jpg</td>\n",
       "      <td>1</td>\n",
       "    </tr>\n",
       "    <tr>\n",
       "      <th>2</th>\n",
       "      <td>ea4e13c773862ebf76812971cdd07b25</td>\n",
       "      <td>Zulu Longines</td>\n",
       "      <td>June 9, 2022</td>\n",
       "      <td>France</td>\n",
       "      <td>https://assets.awwwards.com/awards/media/cache...</td>\n",
       "      <td>ea4e13c773862ebf76812971cdd07b25.jpg</td>\n",
       "      <td>1</td>\n",
       "    </tr>\n",
       "    <tr>\n",
       "      <th>3</th>\n",
       "      <td>33e8c7a0c2c17fbc7bafffb80f808bbe</td>\n",
       "      <td>Ana Blagojevic</td>\n",
       "      <td>June 8, 2022</td>\n",
       "      <td>Italy</td>\n",
       "      <td>https://assets.awwwards.com/awards/media/cache...</td>\n",
       "      <td>33e8c7a0c2c17fbc7bafffb80f808bbe.png</td>\n",
       "      <td>1</td>\n",
       "    </tr>\n",
       "    <tr>\n",
       "      <th>4</th>\n",
       "      <td>caec15565ed1b1b6efec6585191a0530</td>\n",
       "      <td>Kim Kneipp Folio</td>\n",
       "      <td>June 7, 2022</td>\n",
       "      <td>United States</td>\n",
       "      <td>https://assets.awwwards.com/awards/media/cache...</td>\n",
       "      <td>caec15565ed1b1b6efec6585191a0530.png</td>\n",
       "      <td>1</td>\n",
       "    </tr>\n",
       "  </tbody>\n",
       "</table>\n",
       "</div>"
      ],
      "text/plain": [
       "                               hash             site_nm           date  \\\n",
       "0  8ddbf2f936a5fca98539799183a36a2b              Marble  June 11, 2022   \n",
       "1  b4ef75558f97d08d285bce6174d1dd84  POLA: Mother's Day  June 10, 2022   \n",
       "2  ea4e13c773862ebf76812971cdd07b25       Zulu Longines   June 9, 2022   \n",
       "3  33e8c7a0c2c17fbc7bafffb80f808bbe      Ana Blagojevic   June 8, 2022   \n",
       "4  caec15565ed1b1b6efec6585191a0530    Kim Kneipp Folio   June 7, 2022   \n",
       "\n",
       "         country                                            img_url  \\\n",
       "0    Netherlands  https://assets.awwwards.com/awards/media/cache...   \n",
       "1          Japan  https://assets.awwwards.com/awards/media/cache...   \n",
       "2         France  https://assets.awwwards.com/awards/media/cache...   \n",
       "3          Italy  https://assets.awwwards.com/awards/media/cache...   \n",
       "4  United States  https://assets.awwwards.com/awards/media/cache...   \n",
       "\n",
       "                            img_full_nm  winner  \n",
       "0  8ddbf2f936a5fca98539799183a36a2b.jpg       1  \n",
       "1  b4ef75558f97d08d285bce6174d1dd84.jpg       1  \n",
       "2  ea4e13c773862ebf76812971cdd07b25.jpg       1  \n",
       "3  33e8c7a0c2c17fbc7bafffb80f808bbe.png       1  \n",
       "4  caec15565ed1b1b6efec6585191a0530.png       1  "
      ]
     },
     "execution_count": 97,
     "metadata": {},
     "output_type": "execute_result"
    }
   ],
   "source": [
    "df = pd.read_csv(r'C:\\Users\\jeric\\OneDrive\\Documents\\classFiles\\DSC680\\Project_1-new\\puppeteer_scrape\\data.csv', header = None)\n",
    "df.columns = ['hash','site_nm', 'date','country','img_url','img_full_nm']\n",
    "df['winner'] = 1\n",
    "\n",
    "print(\"Rows in df: \"+str(len(df)))\n",
    "\n",
    "df.head()"
   ]
  },
  {
   "cell_type": "markdown",
   "id": "e087e28f",
   "metadata": {},
   "source": [
    "####  Bring in the Nominee's csv data"
   ]
  },
  {
   "cell_type": "code",
   "execution_count": 98,
   "id": "de580ac9",
   "metadata": {},
   "outputs": [
    {
     "name": "stdout",
     "output_type": "stream",
     "text": [
      "Rows in df: 13083\n"
     ]
    },
    {
     "data": {
      "text/html": [
       "<div>\n",
       "<style scoped>\n",
       "    .dataframe tbody tr th:only-of-type {\n",
       "        vertical-align: middle;\n",
       "    }\n",
       "\n",
       "    .dataframe tbody tr th {\n",
       "        vertical-align: top;\n",
       "    }\n",
       "\n",
       "    .dataframe thead th {\n",
       "        text-align: right;\n",
       "    }\n",
       "</style>\n",
       "<table border=\"1\" class=\"dataframe\">\n",
       "  <thead>\n",
       "    <tr style=\"text-align: right;\">\n",
       "      <th></th>\n",
       "      <th>hash</th>\n",
       "      <th>site_nm</th>\n",
       "      <th>date</th>\n",
       "      <th>country</th>\n",
       "      <th>img_url</th>\n",
       "      <th>img_full_nm</th>\n",
       "      <th>winner</th>\n",
       "    </tr>\n",
       "  </thead>\n",
       "  <tbody>\n",
       "    <tr>\n",
       "      <th>0</th>\n",
       "      <td>f810500fcf4ffdbd89571a469951c835</td>\n",
       "      <td>July</td>\n",
       "      <td>10-Jun-22</td>\n",
       "      <td>United States</td>\n",
       "      <td>https://assets.awwwards.com/awards/media/cache...</td>\n",
       "      <td>f810500fcf4ffdbd89571a469951c835.png</td>\n",
       "      <td>0</td>\n",
       "    </tr>\n",
       "    <tr>\n",
       "      <th>1</th>\n",
       "      <td>3f2dfa1d6327bbd1058ff43834491597</td>\n",
       "      <td>Cobo©</td>\n",
       "      <td>10-Jun-22</td>\n",
       "      <td>Netherlands</td>\n",
       "      <td>https://assets.awwwards.com/awards/media/cache...</td>\n",
       "      <td>3f2dfa1d6327bbd1058ff43834491597.jpg</td>\n",
       "      <td>0</td>\n",
       "    </tr>\n",
       "    <tr>\n",
       "      <th>2</th>\n",
       "      <td>2777b6d0afb87d89ffa9f84d89704145</td>\n",
       "      <td>Paul McCartney</td>\n",
       "      <td>10-Jun-22</td>\n",
       "      <td>United Kingdom</td>\n",
       "      <td>https://assets.awwwards.com/awards/media/cache...</td>\n",
       "      <td>2777b6d0afb87d89ffa9f84d89704145.png</td>\n",
       "      <td>0</td>\n",
       "    </tr>\n",
       "    <tr>\n",
       "      <th>3</th>\n",
       "      <td>36301ba2bb96c74c9c9b9deecd7cb79a</td>\n",
       "      <td>Callista</td>\n",
       "      <td>10-Jun-22</td>\n",
       "      <td>Netherlands</td>\n",
       "      <td>https://assets.awwwards.com/awards/media/cache...</td>\n",
       "      <td>36301ba2bb96c74c9c9b9deecd7cb79a.jpg</td>\n",
       "      <td>0</td>\n",
       "    </tr>\n",
       "    <tr>\n",
       "      <th>4</th>\n",
       "      <td>fe15f5752fdbdd501cddcc17012a057f</td>\n",
       "      <td>.PEAM</td>\n",
       "      <td>10-Jun-22</td>\n",
       "      <td>Germany</td>\n",
       "      <td>https://assets.awwwards.com/awards/media/cache...</td>\n",
       "      <td>fe15f5752fdbdd501cddcc17012a057f.png</td>\n",
       "      <td>0</td>\n",
       "    </tr>\n",
       "  </tbody>\n",
       "</table>\n",
       "</div>"
      ],
      "text/plain": [
       "                               hash         site_nm       date  \\\n",
       "0  f810500fcf4ffdbd89571a469951c835            July  10-Jun-22   \n",
       "1  3f2dfa1d6327bbd1058ff43834491597           Cobo©  10-Jun-22   \n",
       "2  2777b6d0afb87d89ffa9f84d89704145  Paul McCartney  10-Jun-22   \n",
       "3  36301ba2bb96c74c9c9b9deecd7cb79a        Callista  10-Jun-22   \n",
       "4  fe15f5752fdbdd501cddcc17012a057f           .PEAM  10-Jun-22   \n",
       "\n",
       "          country                                            img_url  \\\n",
       "0   United States  https://assets.awwwards.com/awards/media/cache...   \n",
       "1     Netherlands  https://assets.awwwards.com/awards/media/cache...   \n",
       "2  United Kingdom  https://assets.awwwards.com/awards/media/cache...   \n",
       "3     Netherlands  https://assets.awwwards.com/awards/media/cache...   \n",
       "4         Germany  https://assets.awwwards.com/awards/media/cache...   \n",
       "\n",
       "                            img_full_nm  winner  \n",
       "0  f810500fcf4ffdbd89571a469951c835.png       0  \n",
       "1  3f2dfa1d6327bbd1058ff43834491597.jpg       0  \n",
       "2  2777b6d0afb87d89ffa9f84d89704145.png       0  \n",
       "3  36301ba2bb96c74c9c9b9deecd7cb79a.jpg       0  \n",
       "4  fe15f5752fdbdd501cddcc17012a057f.png       0  "
      ]
     },
     "execution_count": 98,
     "metadata": {},
     "output_type": "execute_result"
    }
   ],
   "source": [
    "df2 = pd.read_csv(r'C:\\Users\\jeric\\OneDrive\\Documents\\classFiles\\DSC680\\Project_1-new\\puppeteer_scrape\\data_noms.csv', header = None)\n",
    "df2.columns = ['hash','site_nm', 'date','country','img_url','img_full_nm']\n",
    "df2['winner'] = 0\n",
    "\n",
    "print(\"Rows in df: \"+str(len(df2)))\n",
    "\n",
    "df2.head()"
   ]
  },
  {
   "cell_type": "markdown",
   "id": "6e292ee6",
   "metadata": {},
   "source": [
    "#### Comparing CSV Files"
   ]
  },
  {
   "cell_type": "code",
   "execution_count": 99,
   "id": "050417e1",
   "metadata": {},
   "outputs": [
    {
     "name": "stdout",
     "output_type": "stream",
     "text": [
      "Winner's record count: 4686\n",
      "Winner's min date: 2009-06-01 00:00:00\n",
      "Winner's max date: 2022-06-11 00:00:00\n",
      " \n",
      "Nominee's record count: 13083\n",
      "Nominee's min date: 2019-12-05 00:00:00\n",
      "Nominee's min date: 2022-06-10 00:00:00\n",
      "2019-12-05 00:00:00\n",
      "2022-06-10 00:00:00\n"
     ]
    }
   ],
   "source": [
    "df['date'] = pd.to_datetime(df['date']) #winners\n",
    "df2['date'] = pd.to_datetime(df2['date']) #nominees\n",
    "\n",
    "print(\"Winner's record count: \"+str(len(df)))\n",
    "print(\"Winner's min date: \"+str(df['date'].min()))\n",
    "print(\"Winner's max date: \"+str(df['date'].max()))\n",
    "print(\" \")\n",
    "print(\"Nominee's record count: \"+str(len(df2)))\n",
    "print(\"Nominee's min date: \"+str(df2['date'].min()))\n",
    "print(\"Nominee's min date: \"+str(df2['date'].max()))\n",
    "\n",
    "Nom_Min = df2['date'].min()\n",
    "Nom_Max = df2['date'].max()\n",
    "\n",
    "print(Nom_Min)\n",
    "print(Nom_Max)"
   ]
  },
  {
   "cell_type": "markdown",
   "id": "dc128416",
   "metadata": {},
   "source": [
    "#### Trimming Winner's dataframe to match date range of nominee's dataframe"
   ]
  },
  {
   "cell_type": "code",
   "execution_count": 100,
   "id": "696dbcd0",
   "metadata": {
    "scrolled": true
   },
   "outputs": [
    {
     "data": {
      "text/plain": [
       "906"
      ]
     },
     "execution_count": 100,
     "metadata": {},
     "output_type": "execute_result"
    }
   ],
   "source": [
    "df2_trunc = df[(df.date <= Nom_Max) & (df.date>= Nom_Min)]\n",
    "len(df2_trunc)"
   ]
  },
  {
   "cell_type": "markdown",
   "id": "3c86ed68",
   "metadata": {},
   "source": [
    "#### Remove Winners from Nominees dataset"
   ]
  },
  {
   "cell_type": "code",
   "execution_count": 101,
   "id": "093ab863",
   "metadata": {},
   "outputs": [
    {
     "name": "stdout",
     "output_type": "stream",
     "text": [
      "Winner(1) count in nominee's dataframe\n"
     ]
    },
    {
     "data": {
      "text/html": [
       "<div>\n",
       "<style scoped>\n",
       "    .dataframe tbody tr th:only-of-type {\n",
       "        vertical-align: middle;\n",
       "    }\n",
       "\n",
       "    .dataframe tbody tr th {\n",
       "        vertical-align: top;\n",
       "    }\n",
       "\n",
       "    .dataframe thead th {\n",
       "        text-align: right;\n",
       "    }\n",
       "</style>\n",
       "<table border=\"1\" class=\"dataframe\">\n",
       "  <thead>\n",
       "    <tr style=\"text-align: right;\">\n",
       "      <th></th>\n",
       "      <th>winner</th>\n",
       "      <th>size</th>\n",
       "    </tr>\n",
       "  </thead>\n",
       "  <tbody>\n",
       "    <tr>\n",
       "      <th>0</th>\n",
       "      <td>0.0</td>\n",
       "      <td>14</td>\n",
       "    </tr>\n",
       "    <tr>\n",
       "      <th>1</th>\n",
       "      <td>1.0</td>\n",
       "      <td>892</td>\n",
       "    </tr>\n",
       "    <tr>\n",
       "      <th>2</th>\n",
       "      <td>NaN</td>\n",
       "      <td>12177</td>\n",
       "    </tr>\n",
       "  </tbody>\n",
       "</table>\n",
       "</div>"
      ],
      "text/plain": [
       "   winner   size\n",
       "0     0.0     14\n",
       "1     1.0    892\n",
       "2     NaN  12177"
      ]
     },
     "execution_count": 101,
     "metadata": {},
     "output_type": "execute_result"
    }
   ],
   "source": [
    "print(\"Winner(1) count in nominee's dataframe\")\n",
    "df3 = pd.DataFrame()\n",
    "df3 = df2.assign(winner=df2_trunc['site_nm'].isin(df2['site_nm']).astype(int))\n",
    "df3.groupby(['winner'], dropna=False, as_index=False).size()"
   ]
  },
  {
   "cell_type": "markdown",
   "id": "8f152fa5-b3ab-4d8c-af9f-c8f6b029687c",
   "metadata": {},
   "source": [
    "#### Setting NaNs to zero"
   ]
  },
  {
   "cell_type": "code",
   "execution_count": 102,
   "id": "a97c92a6-b0c0-4d21-8e07-bf5b7e614ac0",
   "metadata": {},
   "outputs": [
    {
     "name": "stdout",
     "output_type": "stream",
     "text": [
      "Winner(1) count in dataframe after checking against winner's file\n"
     ]
    },
    {
     "data": {
      "text/html": [
       "<div>\n",
       "<style scoped>\n",
       "    .dataframe tbody tr th:only-of-type {\n",
       "        vertical-align: middle;\n",
       "    }\n",
       "\n",
       "    .dataframe tbody tr th {\n",
       "        vertical-align: top;\n",
       "    }\n",
       "\n",
       "    .dataframe thead th {\n",
       "        text-align: right;\n",
       "    }\n",
       "</style>\n",
       "<table border=\"1\" class=\"dataframe\">\n",
       "  <thead>\n",
       "    <tr style=\"text-align: right;\">\n",
       "      <th></th>\n",
       "      <th>winner</th>\n",
       "      <th>size</th>\n",
       "    </tr>\n",
       "  </thead>\n",
       "  <tbody>\n",
       "    <tr>\n",
       "      <th>0</th>\n",
       "      <td>0.0</td>\n",
       "      <td>12191</td>\n",
       "    </tr>\n",
       "    <tr>\n",
       "      <th>1</th>\n",
       "      <td>1.0</td>\n",
       "      <td>892</td>\n",
       "    </tr>\n",
       "  </tbody>\n",
       "</table>\n",
       "</div>"
      ],
      "text/plain": [
       "   winner   size\n",
       "0     0.0  12191\n",
       "1     1.0    892"
      ]
     },
     "execution_count": 102,
     "metadata": {},
     "output_type": "execute_result"
    }
   ],
   "source": [
    "print(\"Winner(1) count in dataframe after checking against winner's file\")\n",
    "df3['winner'] = df3['winner'].fillna(0)\n",
    "df3.groupby(['winner'], dropna=False, as_index=False).size()"
   ]
  },
  {
   "cell_type": "markdown",
   "id": "b2a94d72-14f1-4863-a1aa-c9eb82d949d8",
   "metadata": {},
   "source": [
    "#### Dropping duplicates from nominees dataset"
   ]
  },
  {
   "cell_type": "code",
   "execution_count": 103,
   "id": "fba0281e-e53a-48c6-80c3-59b261b80041",
   "metadata": {},
   "outputs": [
    {
     "data": {
      "text/html": [
       "<div>\n",
       "<style scoped>\n",
       "    .dataframe tbody tr th:only-of-type {\n",
       "        vertical-align: middle;\n",
       "    }\n",
       "\n",
       "    .dataframe tbody tr th {\n",
       "        vertical-align: top;\n",
       "    }\n",
       "\n",
       "    .dataframe thead th {\n",
       "        text-align: right;\n",
       "    }\n",
       "</style>\n",
       "<table border=\"1\" class=\"dataframe\">\n",
       "  <thead>\n",
       "    <tr style=\"text-align: right;\">\n",
       "      <th></th>\n",
       "      <th>winner</th>\n",
       "      <th>size</th>\n",
       "    </tr>\n",
       "  </thead>\n",
       "  <tbody>\n",
       "    <tr>\n",
       "      <th>0</th>\n",
       "      <td>0.0</td>\n",
       "      <td>12191</td>\n",
       "    </tr>\n",
       "  </tbody>\n",
       "</table>\n",
       "</div>"
      ],
      "text/plain": [
       "   winner   size\n",
       "0     0.0  12191"
      ]
     },
     "execution_count": 103,
     "metadata": {},
     "output_type": "execute_result"
    }
   ],
   "source": [
    "df3 =  df3[df3.winner != 1]\n",
    "df3.groupby(['winner'], dropna=False, as_index=False).size()"
   ]
  },
  {
   "cell_type": "markdown",
   "id": "d2675513",
   "metadata": {},
   "source": [
    "#### Combining datasets into 1 dataframe"
   ]
  },
  {
   "cell_type": "code",
   "execution_count": 104,
   "id": "2002da26",
   "metadata": {},
   "outputs": [
    {
     "name": "stdout",
     "output_type": "stream",
     "text": [
      "Winner Dataframe length: 906\n",
      "Non-winning Nominees Dataframe length:12191\n",
      "Should add to: 13097\n"
     ]
    },
    {
     "data": {
      "text/plain": [
       "13097"
      ]
     },
     "execution_count": 104,
     "metadata": {},
     "output_type": "execute_result"
    }
   ],
   "source": [
    "print(\"Winner Dataframe length: \"+str(len(df2_trunc)))\n",
    "print(\"Non-winning Nominees Dataframe length:\"+str(len(df3)))\n",
    "print(\"Should add to: \"+ str(len(df2_trunc)+len(df3)))\n",
    "\n",
    "cmb_df = pd.concat([df3,df2_trunc], axis = 'rows')\n",
    "len(cmb_df)\n"
   ]
  },
  {
   "cell_type": "code",
   "execution_count": 111,
   "id": "14796f36",
   "metadata": {},
   "outputs": [
    {
     "data": {
      "text/plain": [
       "0.0    12191\n",
       "1.0      906\n",
       "Name: winner, dtype: int64"
      ]
     },
     "execution_count": 111,
     "metadata": {},
     "output_type": "execute_result"
    }
   ],
   "source": [
    "cmb_df['winner'].value_counts()"
   ]
  },
  {
   "cell_type": "markdown",
   "id": "91a94fda-f21b-4ab2-946a-eb6724c20137",
   "metadata": {},
   "source": [
    "#### Identify and drop any records with image issues (404 errors)"
   ]
  },
  {
   "cell_type": "code",
   "execution_count": 112,
   "id": "9a3718a5",
   "metadata": {},
   "outputs": [
    {
     "name": "stdout",
     "output_type": "stream",
     "text": [
      "Total Images: 13097\n",
      "Error Images: 3282\n"
     ]
    }
   ],
   "source": [
    "n=0\n",
    "tot = 0\n",
    "for i, row in cmb_df.iterrows():\n",
    "    tot = tot + 1\n",
    "    filename = row[5]\n",
    "    try:\n",
    "        img = Image.open(directory+filename)\n",
    "        if img is not None:\n",
    "            cmb_df.at[i,'404_error'] = 0\n",
    "           \n",
    "    except:   \n",
    "        cmb_df.at[i,'404_error'] = 1\n",
    "        n = n+1\n",
    "\n",
    "print(\"Total Images: \"+ str(tot))\n",
    "print(\"Error Images: \"+str(n))"
   ]
  },
  {
   "cell_type": "code",
   "execution_count": 113,
   "id": "08099703",
   "metadata": {},
   "outputs": [
    {
     "data": {
      "text/plain": [
       "0"
      ]
     },
     "execution_count": 113,
     "metadata": {},
     "output_type": "execute_result"
    }
   ],
   "source": [
    "cmb_df_2 = cmb_df[(cmb_df['404_error']==0)]\n",
    "len(cmb_df_2[(cmb_df_2['404_error']==1)])"
   ]
  },
  {
   "cell_type": "code",
   "execution_count": 114,
   "id": "56f35e03-a031-4b35-b764-c15d260c5f7d",
   "metadata": {},
   "outputs": [
    {
     "data": {
      "text/plain": [
       "9815"
      ]
     },
     "execution_count": 114,
     "metadata": {},
     "output_type": "execute_result"
    }
   ],
   "source": [
    "len(cmb_df_2)"
   ]
  },
  {
   "cell_type": "code",
   "execution_count": 120,
   "id": "cc948e5b-8828-40b2-aa2c-2cbdd191ecf7",
   "metadata": {},
   "outputs": [
    {
     "data": {
      "text/plain": [
       "0.0    8918\n",
       "1.0     897\n",
       "Name: winner, dtype: int64"
      ]
     },
     "execution_count": 120,
     "metadata": {},
     "output_type": "execute_result"
    }
   ],
   "source": [
    "cmb_df_2['winner'].value_counts()"
   ]
  },
  {
   "cell_type": "markdown",
   "id": "3802d0b2",
   "metadata": {},
   "source": [
    "#### Creating 50 X 50 copies of images"
   ]
  },
  {
   "cell_type": "code",
   "execution_count": null,
   "id": "40e0c136-56d9-4c23-9646-48ea3b29d3e5",
   "metadata": {},
   "outputs": [],
   "source": [
    "#####################\n",
    "### ONLY RUN THIS ONCE\n",
    "#####################\n",
    "for i, row in cmb_df.iterrows():\n",
    "    filename = row[5]\n",
    "    try:\n",
    "        img = Image.open(directory+filename)\n",
    "        if img is not None:\n",
    "            image = Image.open(directory+filename)\n",
    "            image = image.convert('RGB')\n",
    "            image.thumbnail((50,50))\n",
    "            image.save(directory3+row[0]+'.jpg')\n",
    "    except:\n",
    "        print(\"skipped\")"
   ]
  },
  {
   "cell_type": "markdown",
   "id": "dabf904e",
   "metadata": {},
   "source": [
    "#### Add unique color count from 50X50 images to dataframe "
   ]
  },
  {
   "cell_type": "code",
   "execution_count": 124,
   "id": "907c012e-0ff4-4838-81e4-6fb30842a305",
   "metadata": {},
   "outputs": [
    {
     "name": "stdout",
     "output_type": "stream",
     "text": [
      "Missing Color Count: 0\n"
     ]
    }
   ],
   "source": [
    "##Checking that all rows in dataframe were updated\n",
    "missing_color_count = len(cmb_df_2[cmb_df_2['unique_color_count_50'].isnull() == True])\n",
    "print(\"Missing Color Count: \" + str(missing_color_count))\n"
   ]
  },
  {
   "cell_type": "code",
   "execution_count": 125,
   "id": "405bf15b",
   "metadata": {},
   "outputs": [
    {
     "name": "stdout",
     "output_type": "stream",
     "text": [
      "Max Color Count:1817.0\n",
      "Min Color Count:22.0\n"
     ]
    }
   ],
   "source": [
    "print(\"Max Color Count:\" +str(max(cmb_df_2['unique_color_count_50'])))\n",
    "print(\"Min Color Count:\"+str(min(cmb_df_2['unique_color_count_50'])))"
   ]
  },
  {
   "cell_type": "code",
   "execution_count": 126,
   "id": "dace6ab6-9ab2-4e10-9110-5ed6c763400a",
   "metadata": {},
   "outputs": [
    {
     "data": {
      "text/plain": [
       "0.0    8918\n",
       "1.0     897\n",
       "Name: winner, dtype: int64"
      ]
     },
     "execution_count": 126,
     "metadata": {},
     "output_type": "execute_result"
    }
   ],
   "source": [
    "cmb_df_2['winner'].value_counts()"
   ]
  },
  {
   "cell_type": "markdown",
   "id": "ef4f175f",
   "metadata": {},
   "source": [
    "#### Question 1: How many Unique colors are there in the images?\n",
    "\n",
    "Helps answer the question: Do more colors have an impact on likelihood to win an award?"
   ]
  },
  {
   "cell_type": "code",
   "execution_count": 127,
   "id": "eaca927a",
   "metadata": {
    "tags": []
   },
   "outputs": [
    {
     "data": {
      "image/png": "[encoded data removed]",
      "text/plain": [
       "<Figure size 432x288 with 1 Axes>"
      ]
     },
     "metadata": {
      "needs_background": "light"
     },
     "output_type": "display_data"
    }
   ],
   "source": [
    "from matplotlib import pyplot\n",
    "%matplotlib inline\n",
    "\n",
    "pyplot.hist(cmb_df_2[(cmb_df_2.winner == 0)]['unique_color_count_50'], label = 'non-winners', alpha=0.5)\n",
    "pyplot.hist(cmb_df_2[(cmb_df_2.winner == 1)]['unique_color_count_50'], label = 'winners', alpha=0.5)\n",
    "pyplot.legend(loc='upper left')\n",
    "pyplot.title('Histogram of Unique Color Count 50 X 50 ')\n",
    "\n",
    "pyplot.show()"
   ]
  },
  {
   "cell_type": "code",
   "execution_count": 128,
   "id": "566409d9-21fb-43fa-8328-e2f3ffe17fc9",
   "metadata": {},
   "outputs": [
    {
     "data": {
      "image/png": "[encoded data removed]",
      "text/plain": [
       "<Figure size 1600x400 with 1 Axes>"
      ]
     },
     "metadata": {
      "needs_background": "light"
     },
     "output_type": "display_data"
    }
   ],
   "source": [
    "from matplotlib.pyplot import figure\n",
    "figure(figsize=(20, 5), dpi=80)\n",
    "pyplot.hist(cmb_df_2[(cmb_df_2.winner == 0)]['country'], label = 'non-winners', alpha=0.5)\n",
    "pyplot.hist(cmb_df_2[(cmb_df_2.winner == 1)]['country'], label = 'winners', alpha=0.5)\n",
    "pyplot.legend(loc='upper left')\n",
    "pyplot.title('Histogram of Countries')\n",
    "pyplot.xticks(rotation = 90)\n",
    "pyplot.show()"
   ]
  },
  {
   "cell_type": "markdown",
   "id": "64b03a56",
   "metadata": {},
   "source": [
    "#### What is the average color of the images?"
   ]
  },
  {
   "cell_type": "code",
   "execution_count": 129,
   "id": "a637b94a",
   "metadata": {},
   "outputs": [
    {
     "name": "stdout",
     "output_type": "stream",
     "text": [
      "errors: 0\n"
     ]
    }
   ],
   "source": [
    "n = 0\n",
    "for i, row in cmb_df_2.iterrows():\n",
    "    filename = row[0]\n",
    "    try:\n",
    "        img = Image.open(directory3+filename+'.jpg')\n",
    "        if img is not None:\n",
    "            img_temp = img.copy()\n",
    "            colors = np.average(img, axis=(0,1))\n",
    "            colors[0] = round((colors[0]/256),0)\n",
    "            colors[1] = round((colors[1]/256),0)\n",
    "            colors[2] = round((colors[2]/256),0)\n",
    "            hex_val = matplotlib.colors.to_hex([colors[0],colors[1],colors[2]])\n",
    "            cmb_df_2.at[i,'average_color'] = hex_val\n",
    "    except:\n",
    "        n = n+1\n",
    "\n",
    "print(\"errors: \"+str(n))"
   ]
  },
  {
   "cell_type": "markdown",
   "id": "69e2c79e",
   "metadata": {},
   "source": [
    "#### Getting Most Frequent Color by Clustr"
   ]
  },
  {
   "cell_type": "code",
   "execution_count": 134,
   "id": "b89b83f0-6b23-421d-91b9-3ed80fce6892",
   "metadata": {},
   "outputs": [
    {
     "name": "stdout",
     "output_type": "stream",
     "text": [
      "errors: 0\n",
      "Records Udpated: 9815\n"
     ]
    }
   ],
   "source": [
    "from colorthief import ColorThief\n",
    "\n",
    "n = 0\n",
    "n2 = 0\n",
    "for i, row in cmb_df_2.iterrows():\n",
    "    filename = row[0]\n",
    "    try:\n",
    "        img = Image.open(directory3+filename+'.jpg')\n",
    "        if img is not None:\n",
    "            img = img.convert('RGB')\n",
    "            color_thief = ColorThief(directory3+filename+'.jpg')\n",
    "            colors = color_thief.get_color(quality=1)\n",
    "            colors = list(colors)\n",
    "            colors[0] = round((colors[0]/256),0)\n",
    "\n",
    "            colors[1] = round((colors[1]/256),0)\n",
    "            colors[2] = round((colors[2]/256),0)\n",
    "            hex_val = matplotlib.colors.to_hex([colors[0],colors[1],colors[2]])\n",
    "            cmb_df_2.at[i,'dominant_color'] = hex_val\n",
    "            n2 = n2+1\n",
    "    except:\n",
    "        n = n+1\n",
    "\n",
    "print(\"errors: \"+str(n))\n",
    "print(\"Records Udpated: \"+ str(n2))"
   ]
  },
  {
   "cell_type": "code",
   "execution_count": 196,
   "id": "63220e5e-fbaf-4621-b998-f7865892b17e",
   "metadata": {},
   "outputs": [
    {
     "data": {
      "text/plain": [
       "<AxesSubplot:title={'center':'Winners Average Image Color'}, xlabel='Average Color'>"
      ]
     },
     "execution_count": 196,
     "metadata": {},
     "output_type": "execute_result"
    },
    {
     "data": {
      "image/png": "[encoded data removed]",
      "text/plain": [
       "<Figure size 432x288 with 1 Axes>"
      ]
     },
     "metadata": {
      "needs_background": "light"
     },
     "output_type": "display_data"
    },
    {
     "data": {
      "image/png": "[encoded data removed]",
      "text/plain": [
       "<Figure size 432x288 with 1 Axes>"
      ]
     },
     "metadata": {
      "needs_background": "light"
     },
     "output_type": "display_data"
    }
   ],
   "source": [
    "\n",
    "avg_non = cmb_df_2[(cmb_df_2.winner == 0)]\n",
    "avg_win = cmb_df_2[(cmb_df_2.winner == 1)]\n",
    "\n",
    "avg_colors_non = avg_non['average_color'].value_counts().rename_axis('Average Color').reset_index(name='counts')\n",
    "avg_colors_win = dom_win['average_color'].value_counts().rename_axis('Average Color').reset_index(name='counts')\n",
    "colors_nom = avg_colors_non['Average Color']\n",
    "colors_win = avg_colors_win['Average Color']\n",
    "avg_colors_non.plot.bar(x='Average Color',y='counts',color= colors_nom,  edgecolor = 'black', title= 'Nominees Average Image Color')\n",
    "avg_colors_win.plot.bar(x='Average Color',y='counts',color= colors_win,  edgecolor = 'black', title= 'Winners Average Image Color')"
   ]
  },
  {
   "cell_type": "code",
   "execution_count": 195,
   "id": "6be33827-129d-4776-bdd5-8fb5553f573c",
   "metadata": {},
   "outputs": [
    {
     "data": {
      "text/plain": [
       "<AxesSubplot:title={'center':'Winners Dominant Image Color'}, xlabel='Dominant Color'>"
      ]
     },
     "execution_count": 195,
     "metadata": {},
     "output_type": "execute_result"
    },
    {
     "data": {
      "image/png": "[encoded data removed]",
      "text/plain": [
       "<Figure size 432x288 with 1 Axes>"
      ]
     },
     "metadata": {
      "needs_background": "light"
     },
     "output_type": "display_data"
    },
    {
     "data": {
      "image/png": "[encoded data removed]",
      "text/plain": [
       "<Figure size 432x288 with 1 Axes>"
      ]
     },
     "metadata": {
      "needs_background": "light"
     },
     "output_type": "display_data"
    }
   ],
   "source": [
    "dom_non = cmb_df_2[(cmb_df_2.winner == 0)]\n",
    "dom_win = cmb_df_2[(cmb_df_2.winner == 1)]\n",
    "\n",
    "dom_colors_non = dom_non['dominant_color'].value_counts().rename_axis('Dominant Color').reset_index(name='counts')\n",
    "dom_colors_win = dom_win['dominant_color'].value_counts().rename_axis('Dominant Color').reset_index(name='counts')\n",
    "colors_nom = dom_colors_non['Dominant Color']\n",
    "colors_win = dom_colors_win['Dominant Color']\n",
    "dom_colors_non.plot.bar(x='Dominant Color',y='counts',color= colors_nom,  edgecolor = 'black', title= 'Nominees Dominant Image Color')\n",
    "dom_colors_win.plot.bar(x='Dominant Color',y='counts',color= colors_win,  edgecolor = 'black', title= 'Winners Dominant Image Color')"
   ]
  },
  {
   "cell_type": "markdown",
   "id": "1692dcfe-9a9f-4c42-8844-7ab397670f9f",
   "metadata": {},
   "source": [
    "#### Save work to CSV to save time for future work"
   ]
  },
  {
   "cell_type": "code",
   "execution_count": 183,
   "id": "9e3594cd-302e-46ed-991a-189b18345b6e",
   "metadata": {},
   "outputs": [],
   "source": [
    "cmb_df_2.to_csv('savedwork.csv',index=False)"
   ]
  }
 ],
 "metadata": {
  "kernelspec": {
   "display_name": "Python 3",
   "language": "python",
   "name": "python3"
  },
  "language_info": {
   "codemirror_mode": {
    "name": "ipython",
    "version": 3
   },
   "file_extension": ".py",
   "mimetype": "text/x-python",
   "name": "python",
   "nbconvert_exporter": "python",
   "pygments_lexer": "ipython3",
   "version": "3.8.8"
  }
 },
 "nbformat": 4,
 "nbformat_minor": 5
}
