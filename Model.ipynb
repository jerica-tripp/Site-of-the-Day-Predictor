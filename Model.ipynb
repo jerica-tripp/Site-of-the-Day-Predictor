{
 "cells": [
  {
   "cell_type": "code",
   "execution_count": 7,
   "id": "21ea05b8-69f8-4139-88e8-dd38ec8e6744",
   "metadata": {},
   "outputs": [],
   "source": [
    "import imageio as iio\n",
    "import visvis as vv\n",
    "import numpy as np\n",
    "import matplotlib\n",
    "import matplotlib.pyplot as plt\n",
    "import pandas as pd\n",
    "from PIL import Image\n",
    "import csv\n",
    "import os\n",
    "%matplotlib inline\n",
    "pd.options.mode.chained_assignment = None  "
   ]
  },
  {
   "cell_type": "code",
   "execution_count": 8,
   "id": "b577df76-3620-4046-a983-7ac6150fd0fc",
   "metadata": {},
   "outputs": [],
   "source": [
    "df = pd.read_csv('savedwork.csv')"
   ]
  },
  {
   "cell_type": "code",
   "execution_count": 9,
   "id": "e6910da2-0208-467c-aee8-d4cb3ccb3cbc",
   "metadata": {},
   "outputs": [
    {
     "data": {
      "text/html": [
       "<div>\n",
       "<style scoped>\n",
       "    .dataframe tbody tr th:only-of-type {\n",
       "        vertical-align: middle;\n",
       "    }\n",
       "\n",
       "    .dataframe tbody tr th {\n",
       "        vertical-align: top;\n",
       "    }\n",
       "\n",
       "    .dataframe thead th {\n",
       "        text-align: right;\n",
       "    }\n",
       "</style>\n",
       "<table border=\"1\" class=\"dataframe\">\n",
       "  <thead>\n",
       "    <tr style=\"text-align: right;\">\n",
       "      <th></th>\n",
       "      <th>hash</th>\n",
       "      <th>site_nm</th>\n",
       "      <th>date</th>\n",
       "      <th>country</th>\n",
       "      <th>img_url</th>\n",
       "      <th>img_full_nm</th>\n",
       "      <th>winner</th>\n",
       "      <th>404_error</th>\n",
       "      <th>unique_color_count_50</th>\n",
       "      <th>average_color</th>\n",
       "      <th>dominant_color</th>\n",
       "    </tr>\n",
       "  </thead>\n",
       "  <tbody>\n",
       "    <tr>\n",
       "      <th>0</th>\n",
       "      <td>f810500fcf4ffdbd89571a469951c835</td>\n",
       "      <td>July</td>\n",
       "      <td>2022-06-10</td>\n",
       "      <td>United States</td>\n",
       "      <td>https://assets.awwwards.com/awards/media/cache...</td>\n",
       "      <td>f810500fcf4ffdbd89571a469951c835.png</td>\n",
       "      <td>0.0</td>\n",
       "      <td>0.0</td>\n",
       "      <td>1660.0</td>\n",
       "      <td>#ffffff</td>\n",
       "      <td>#000000</td>\n",
       "    </tr>\n",
       "    <tr>\n",
       "      <th>1</th>\n",
       "      <td>147fd1ccb1a369fa1663d26dfff9bdd9</td>\n",
       "      <td>Shaping Better Maritime World</td>\n",
       "      <td>2022-05-06</td>\n",
       "      <td>France</td>\n",
       "      <td>https://assets.awwwards.com/awards/media/cache...</td>\n",
       "      <td>147fd1ccb1a369fa1663d26dfff9bdd9.jpg</td>\n",
       "      <td>0.0</td>\n",
       "      <td>0.0</td>\n",
       "      <td>1327.0</td>\n",
       "      <td>#ff0000</td>\n",
       "      <td>#000000</td>\n",
       "    </tr>\n",
       "    <tr>\n",
       "      <th>2</th>\n",
       "      <td>e077a8deb52eb3dc2560248fb6b2fb2f</td>\n",
       "      <td>No Fun Studio</td>\n",
       "      <td>2022-03-30</td>\n",
       "      <td>United States</td>\n",
       "      <td>https://assets.awwwards.com/awards/media/cache...</td>\n",
       "      <td>e077a8deb52eb3dc2560248fb6b2fb2f.png</td>\n",
       "      <td>0.0</td>\n",
       "      <td>0.0</td>\n",
       "      <td>1312.0</td>\n",
       "      <td>#ffffff</td>\n",
       "      <td>#ffffff</td>\n",
       "    </tr>\n",
       "    <tr>\n",
       "      <th>3</th>\n",
       "      <td>9313bd9422860e60229e52f2f5f8dafd</td>\n",
       "      <td>Dynamic Solution</td>\n",
       "      <td>2022-03-29</td>\n",
       "      <td>Germany</td>\n",
       "      <td>https://assets.awwwards.com/awards/media/cache...</td>\n",
       "      <td>9313bd9422860e60229e52f2f5f8dafd.jpg</td>\n",
       "      <td>0.0</td>\n",
       "      <td>0.0</td>\n",
       "      <td>525.0</td>\n",
       "      <td>#000000</td>\n",
       "      <td>#000000</td>\n",
       "    </tr>\n",
       "    <tr>\n",
       "      <th>4</th>\n",
       "      <td>f14a4c67cadf1cfb5d6b9cb8ec2c432a</td>\n",
       "      <td>AllCaps</td>\n",
       "      <td>2022-03-28</td>\n",
       "      <td>Czech Republic</td>\n",
       "      <td>https://assets.awwwards.com/awards/media/cache...</td>\n",
       "      <td>f14a4c67cadf1cfb5d6b9cb8ec2c432a.png</td>\n",
       "      <td>0.0</td>\n",
       "      <td>0.0</td>\n",
       "      <td>309.0</td>\n",
       "      <td>#ffffff</td>\n",
       "      <td>#ffffff</td>\n",
       "    </tr>\n",
       "    <tr>\n",
       "      <th>...</th>\n",
       "      <td>...</td>\n",
       "      <td>...</td>\n",
       "      <td>...</td>\n",
       "      <td>...</td>\n",
       "      <td>...</td>\n",
       "      <td>...</td>\n",
       "      <td>...</td>\n",
       "      <td>...</td>\n",
       "      <td>...</td>\n",
       "      <td>...</td>\n",
       "      <td>...</td>\n",
       "    </tr>\n",
       "    <tr>\n",
       "      <th>9810</th>\n",
       "      <td>27971fd45b0cd48d79a7323c1a170203</td>\n",
       "      <td>UNLOCK YOU｜WW</td>\n",
       "      <td>2019-12-09</td>\n",
       "      <td>Japan</td>\n",
       "      <td>https://assets.awwwards.com/awards/media/cache...</td>\n",
       "      <td>27971fd45b0cd48d79a7323c1a170203.jpg</td>\n",
       "      <td>1.0</td>\n",
       "      <td>0.0</td>\n",
       "      <td>1062.0</td>\n",
       "      <td>#000000</td>\n",
       "      <td>#000000</td>\n",
       "    </tr>\n",
       "    <tr>\n",
       "      <th>9811</th>\n",
       "      <td>ab5ea49896c0534621131fdaac491c15</td>\n",
       "      <td>The Scott Resort &amp; Spa</td>\n",
       "      <td>2019-12-08</td>\n",
       "      <td>United Kingdom</td>\n",
       "      <td>https://assets.awwwards.com/awards/media/cache...</td>\n",
       "      <td>ab5ea49896c0534621131fdaac491c15.jpg</td>\n",
       "      <td>1.0</td>\n",
       "      <td>0.0</td>\n",
       "      <td>1445.0</td>\n",
       "      <td>#000000</td>\n",
       "      <td>#000000</td>\n",
       "    </tr>\n",
       "    <tr>\n",
       "      <th>9812</th>\n",
       "      <td>bfb60a6e07853064a377f4c7d5f5a6d6</td>\n",
       "      <td>Sacha Tourtoulou - Portfolio</td>\n",
       "      <td>2019-12-07</td>\n",
       "      <td>France</td>\n",
       "      <td>https://assets.awwwards.com/awards/media/cache...</td>\n",
       "      <td>bfb60a6e07853064a377f4c7d5f5a6d6.jpg</td>\n",
       "      <td>1.0</td>\n",
       "      <td>0.0</td>\n",
       "      <td>526.0</td>\n",
       "      <td>#ffffff</td>\n",
       "      <td>#ffffff</td>\n",
       "    </tr>\n",
       "    <tr>\n",
       "      <th>9813</th>\n",
       "      <td>799957330d0cc8fb36c3439cd9252688</td>\n",
       "      <td>The Geek Designer</td>\n",
       "      <td>2019-12-06</td>\n",
       "      <td>United States</td>\n",
       "      <td>https://assets.awwwards.com/awards/media/cache...</td>\n",
       "      <td>799957330d0cc8fb36c3439cd9252688.png</td>\n",
       "      <td>1.0</td>\n",
       "      <td>0.0</td>\n",
       "      <td>1155.0</td>\n",
       "      <td>#ff0000</td>\n",
       "      <td>#ff0000</td>\n",
       "    </tr>\n",
       "    <tr>\n",
       "      <th>9814</th>\n",
       "      <td>8fdef32d6f960f42baabcb3b6f331353</td>\n",
       "      <td>Limnia Modular Fine Jewelry</td>\n",
       "      <td>2019-12-05</td>\n",
       "      <td>United States</td>\n",
       "      <td>https://assets.awwwards.com/awards/media/cache...</td>\n",
       "      <td>8fdef32d6f960f42baabcb3b6f331353.png</td>\n",
       "      <td>1.0</td>\n",
       "      <td>0.0</td>\n",
       "      <td>1648.0</td>\n",
       "      <td>#ffff00</td>\n",
       "      <td>#ffff00</td>\n",
       "    </tr>\n",
       "  </tbody>\n",
       "</table>\n",
       "<p>9815 rows × 11 columns</p>\n",
       "</div>"
      ],
      "text/plain": [
       "                                  hash                        site_nm  \\\n",
       "0     f810500fcf4ffdbd89571a469951c835                           July   \n",
       "1     147fd1ccb1a369fa1663d26dfff9bdd9  Shaping Better Maritime World   \n",
       "2     e077a8deb52eb3dc2560248fb6b2fb2f                  No Fun Studio   \n",
       "3     9313bd9422860e60229e52f2f5f8dafd               Dynamic Solution   \n",
       "4     f14a4c67cadf1cfb5d6b9cb8ec2c432a                        AllCaps   \n",
       "...                                ...                            ...   \n",
       "9810  27971fd45b0cd48d79a7323c1a170203                  UNLOCK YOU｜WW   \n",
       "9811  ab5ea49896c0534621131fdaac491c15         The Scott Resort & Spa   \n",
       "9812  bfb60a6e07853064a377f4c7d5f5a6d6   Sacha Tourtoulou - Portfolio   \n",
       "9813  799957330d0cc8fb36c3439cd9252688              The Geek Designer   \n",
       "9814  8fdef32d6f960f42baabcb3b6f331353    Limnia Modular Fine Jewelry   \n",
       "\n",
       "            date         country  \\\n",
       "0     2022-06-10   United States   \n",
       "1     2022-05-06          France   \n",
       "2     2022-03-30   United States   \n",
       "3     2022-03-29         Germany   \n",
       "4     2022-03-28  Czech Republic   \n",
       "...          ...             ...   \n",
       "9810  2019-12-09           Japan   \n",
       "9811  2019-12-08  United Kingdom   \n",
       "9812  2019-12-07          France   \n",
       "9813  2019-12-06   United States   \n",
       "9814  2019-12-05   United States   \n",
       "\n",
       "                                                img_url  \\\n",
       "0     https://assets.awwwards.com/awards/media/cache...   \n",
       "1     https://assets.awwwards.com/awards/media/cache...   \n",
       "2     https://assets.awwwards.com/awards/media/cache...   \n",
       "3     https://assets.awwwards.com/awards/media/cache...   \n",
       "4     https://assets.awwwards.com/awards/media/cache...   \n",
       "...                                                 ...   \n",
       "9810  https://assets.awwwards.com/awards/media/cache...   \n",
       "9811  https://assets.awwwards.com/awards/media/cache...   \n",
       "9812  https://assets.awwwards.com/awards/media/cache...   \n",
       "9813  https://assets.awwwards.com/awards/media/cache...   \n",
       "9814  https://assets.awwwards.com/awards/media/cache...   \n",
       "\n",
       "                               img_full_nm  winner  404_error  \\\n",
       "0     f810500fcf4ffdbd89571a469951c835.png     0.0        0.0   \n",
       "1     147fd1ccb1a369fa1663d26dfff9bdd9.jpg     0.0        0.0   \n",
       "2     e077a8deb52eb3dc2560248fb6b2fb2f.png     0.0        0.0   \n",
       "3     9313bd9422860e60229e52f2f5f8dafd.jpg     0.0        0.0   \n",
       "4     f14a4c67cadf1cfb5d6b9cb8ec2c432a.png     0.0        0.0   \n",
       "...                                    ...     ...        ...   \n",
       "9810  27971fd45b0cd48d79a7323c1a170203.jpg     1.0        0.0   \n",
       "9811  ab5ea49896c0534621131fdaac491c15.jpg     1.0        0.0   \n",
       "9812  bfb60a6e07853064a377f4c7d5f5a6d6.jpg     1.0        0.0   \n",
       "9813  799957330d0cc8fb36c3439cd9252688.png     1.0        0.0   \n",
       "9814  8fdef32d6f960f42baabcb3b6f331353.png     1.0        0.0   \n",
       "\n",
       "      unique_color_count_50 average_color dominant_color  \n",
       "0                    1660.0       #ffffff        #000000  \n",
       "1                    1327.0       #ff0000        #000000  \n",
       "2                    1312.0       #ffffff        #ffffff  \n",
       "3                     525.0       #000000        #000000  \n",
       "4                     309.0       #ffffff        #ffffff  \n",
       "...                     ...           ...            ...  \n",
       "9810                 1062.0       #000000        #000000  \n",
       "9811                 1445.0       #000000        #000000  \n",
       "9812                  526.0       #ffffff        #ffffff  \n",
       "9813                 1155.0       #ff0000        #ff0000  \n",
       "9814                 1648.0       #ffff00        #ffff00  \n",
       "\n",
       "[9815 rows x 11 columns]"
      ]
     },
     "execution_count": 9,
     "metadata": {},
     "output_type": "execute_result"
    }
   ],
   "source": [
    "df"
   ]
  },
  {
   "cell_type": "markdown",
   "id": "5cce0a94-4072-44ac-bf84-7940383cb431",
   "metadata": {},
   "source": [
    "#### Formatting Dates to Date Types"
   ]
  },
  {
   "cell_type": "code",
   "execution_count": 10,
   "id": "d4dbfb6a-c0fb-4f8d-9e56-4b3f592be437",
   "metadata": {},
   "outputs": [
    {
     "name": "stdout",
     "output_type": "stream",
     "text": [
      "object\n",
      "datetime64[ns]\n"
     ]
    }
   ],
   "source": [
    "print(df['date'].dtype)\n",
    "df['date'] = pd.to_datetime(df['date'])\n",
    "print(df['date'].dtype)"
   ]
  },
  {
   "cell_type": "markdown",
   "id": "280304f3-7d0d-4d41-b10e-e0d0b4e09fba",
   "metadata": {},
   "source": [
    "#### Creating Date Parts"
   ]
  },
  {
   "cell_type": "code",
   "execution_count": 38,
   "id": "71c37edd-b858-4eff-ad57-bb78deef1b25",
   "metadata": {},
   "outputs": [
    {
     "data": {
      "text/plain": [
       "2021    4358\n",
       "2020    4086\n",
       "2022    1131\n",
       "2019     240\n",
       "Name: year, dtype: int64"
      ]
     },
     "execution_count": 38,
     "metadata": {},
     "output_type": "execute_result"
    }
   ],
   "source": [
    "df['weekday'] = df['date'].dt.day_of_week\n",
    "df['day'] = df['date'].dt.day\n",
    "df['year'] = df['date'].dt.year\n",
    "df['month'] = df['date'].dt.month"
   ]
  },
  {
   "cell_type": "markdown",
   "id": "ac5cc11f-7ea5-4754-a427-c884b625daf6",
   "metadata": {},
   "source": [
    "#### Reviewing Weekday Trends"
   ]
  },
  {
   "cell_type": "code",
   "execution_count": 70,
   "id": "eb522549-bd99-4d67-8d3d-0f9112ab67ff",
   "metadata": {},
   "outputs": [
    {
     "data": {
      "image/png": "[encoded data removed]",
      "text/plain": [
       "<Figure size 432x288 with 1 Axes>"
      ]
     },
     "metadata": {
      "needs_background": "light"
     },
     "output_type": "display_data"
    }
   ],
   "source": [
    "weekday_df = df.groupby(['weekday','winner'])['year'].count().unstack('winner').reset_index().set_index('weekday')\n",
    "weekday_df.index.names = [None]\n",
    "weekday_df.head()\n",
    "ax = weekday_df[[0.0,1.0]].plot(kind='bar', stacked=True, title = 'Weekday by Winners Count')"
   ]
  },
  {
   "cell_type": "markdown",
   "id": "c10c2c0f-ee13-4246-a386-e295c4463dba",
   "metadata": {},
   "source": [
    "#### Need to Remove Weekdays of 5 & 6 as these are have winner details but no nominees"
   ]
  },
  {
   "cell_type": "code",
   "execution_count": 86,
   "id": "c9c29755-828c-4d76-893f-378f6fa225f0",
   "metadata": {},
   "outputs": [
    {
     "data": {
      "text/html": [
       "<div>\n",
       "<style scoped>\n",
       "    .dataframe tbody tr th:only-of-type {\n",
       "        vertical-align: middle;\n",
       "    }\n",
       "\n",
       "    .dataframe tbody tr th {\n",
       "        vertical-align: top;\n",
       "    }\n",
       "\n",
       "    .dataframe thead th {\n",
       "        text-align: right;\n",
       "    }\n",
       "</style>\n",
       "<table border=\"1\" class=\"dataframe\">\n",
       "  <thead>\n",
       "    <tr style=\"text-align: right;\">\n",
       "      <th>winner</th>\n",
       "      <th>0.0</th>\n",
       "      <th>1.0</th>\n",
       "    </tr>\n",
       "  </thead>\n",
       "  <tbody>\n",
       "    <tr>\n",
       "      <th>0</th>\n",
       "      <td>1846</td>\n",
       "      <td>126</td>\n",
       "    </tr>\n",
       "    <tr>\n",
       "      <th>1</th>\n",
       "      <td>1784</td>\n",
       "      <td>128</td>\n",
       "    </tr>\n",
       "    <tr>\n",
       "      <th>2</th>\n",
       "      <td>1757</td>\n",
       "      <td>128</td>\n",
       "    </tr>\n",
       "    <tr>\n",
       "      <th>3</th>\n",
       "      <td>1752</td>\n",
       "      <td>130</td>\n",
       "    </tr>\n",
       "    <tr>\n",
       "      <th>4</th>\n",
       "      <td>1770</td>\n",
       "      <td>129</td>\n",
       "    </tr>\n",
       "    <tr>\n",
       "      <th>5</th>\n",
       "      <td>2</td>\n",
       "      <td>127</td>\n",
       "    </tr>\n",
       "    <tr>\n",
       "      <th>6</th>\n",
       "      <td>7</td>\n",
       "      <td>129</td>\n",
       "    </tr>\n",
       "  </tbody>\n",
       "</table>\n",
       "</div>"
      ],
      "text/plain": [
       "winner   0.0  1.0\n",
       "0       1846  126\n",
       "1       1784  128\n",
       "2       1757  128\n",
       "3       1752  130\n",
       "4       1770  129\n",
       "5          2  127\n",
       "6          7  129"
      ]
     },
     "execution_count": 86,
     "metadata": {},
     "output_type": "execute_result"
    }
   ],
   "source": [
    "weekday_df"
   ]
  },
  {
   "cell_type": "code",
   "execution_count": 91,
   "id": "43afd63e-c6e3-4865-9b9b-85259178eeb7",
   "metadata": {},
   "outputs": [
    {
     "name": "stdout",
     "output_type": "stream",
     "text": [
      "DF length before removing Saturdays: 9815\n",
      "DF length after removing Saturdays: 9686\n",
      "DF length after removing Sundays: 9550\n"
     ]
    }
   ],
   "source": [
    "print(\"DF length before removing Saturdays: \"+str(len(df)))\n",
    "df = df[(df['weekday']!=5)]\n",
    "print(\"DF length after removing Saturdays: \"+str(len(df)))\n",
    "df = df[(df['weekday']!=6)]\n",
    "print(\"DF length after removing Sundays: \"+str(len(df)))"
   ]
  },
  {
   "cell_type": "code",
   "execution_count": 92,
   "id": "83c8c030-7851-4309-bef8-f7ce2b2f79d1",
   "metadata": {},
   "outputs": [
    {
     "data": {
      "image/png": "[encoded data removed]",
      "text/plain": [
       "<Figure size 432x288 with 1 Axes>"
      ]
     },
     "metadata": {
      "needs_background": "light"
     },
     "output_type": "display_data"
    }
   ],
   "source": [
    "weekday_df = df.groupby(['weekday','winner'])['year'].count().unstack('winner').reset_index().set_index('weekday')\n",
    "weekday_df.index.names = [None]\n",
    "weekday_df.head()\n",
    "ax = weekday_df[[0.0,1.0]].plot(kind='bar', stacked=True, title = 'Weekday by Winners Count')"
   ]
  },
  {
   "cell_type": "code",
   "execution_count": 93,
   "id": "fd6a8be6-4d6c-4627-a8f4-8d638d8f9683",
   "metadata": {},
   "outputs": [
    {
     "data": {
      "image/png": "[encoded data removed]",
      "text/plain": [
       "<Figure size 432x288 with 1 Axes>"
      ]
     },
     "metadata": {
      "needs_background": "light"
     },
     "output_type": "display_data"
    }
   ],
   "source": [
    "year_df = df.groupby(['year','winner'])['year'].count().unstack('winner').reset_index().set_index('year')\n",
    "year_df.index.names = [None]\n",
    "year_df.head()\n",
    "ax = year_df[[0.0,1.0]].plot(kind='bar', stacked=True, title = 'Year by Winners Count')"
   ]
  },
  {
   "cell_type": "code",
   "execution_count": 94,
   "id": "514d6b17-15e9-442d-8364-c37afb2aaf34",
   "metadata": {},
   "outputs": [
    {
     "data": {
      "image/png": "[encoded data removed]",
      "text/plain": [
       "<Figure size 432x288 with 1 Axes>"
      ]
     },
     "metadata": {
      "needs_background": "light"
     },
     "output_type": "display_data"
    }
   ],
   "source": [
    "month_df = df.groupby(['month','winner'])['month'].count().unstack('winner').reset_index().set_index('month')\n",
    "month_df.index.names = [None]\n",
    "month_df.head()\n",
    "ax = month_df[[0.0,1.0]].plot(kind='bar', stacked=True, title = 'Month by Winners Count')"
   ]
  },
  {
   "cell_type": "code",
   "execution_count": 103,
   "id": "ac9f2425-2351-46fe-9b27-38c07d5f8aba",
   "metadata": {},
   "outputs": [
    {
     "data": {
      "text/plain": [
       "<AxesSubplot:title={'center':'Day by Winners Count'}>"
      ]
     },
     "execution_count": 103,
     "metadata": {},
     "output_type": "execute_result"
    },
    {
     "data": {
      "image/png": "[encoded data removed]",
      "text/plain": [
       "<Figure size 720x360 with 1 Axes>"
      ]
     },
     "metadata": {
      "needs_background": "light"
     },
     "output_type": "display_data"
    }
   ],
   "source": [
    "day_df = df.groupby(['day','winner'])['day'].count().unstack('winner').reset_index().set_index('day')\n",
    "day_df.index.names = [None]\n",
    "day_df.head()\n",
    "day_df[[0.0,1.0]].plot(kind='bar', stacked=True, title = 'Day by Winners Count', figsize=(10, 5))"
   ]
  },
  {
   "cell_type": "markdown",
   "id": "7ecb5ad5-c32d-4fc4-b3a8-74a6e343497f",
   "metadata": {},
   "source": [
    "#### Solving for Imbalanced Classes"
   ]
  },
  {
   "cell_type": "code",
   "execution_count": 105,
   "id": "6ca79b48-acf6-44c4-962a-9cc7f6eabfc3",
   "metadata": {},
   "outputs": [
    {
     "name": "stdout",
     "output_type": "stream",
     "text": [
      "Non-Winners Count: 8909\n",
      "Winners Count:641\n",
      "Diff: 8268\n"
     ]
    },
    {
     "data": {
      "image/png": "[encoded data removed]",
      "text/plain": [
       "<Figure size 400x400 with 1 Axes>"
      ]
     },
     "metadata": {
      "needs_background": "light"
     },
     "output_type": "display_data"
    }
   ],
   "source": [
    "from matplotlib import pyplot\n",
    "from matplotlib.pyplot import figure\n",
    "\n",
    "print('Non-Winners Count: '+str(len(df[df['winner']==0])))\n",
    "print('Winners Count:'+ str(len(df[df['winner']==1])))\n",
    "df_win = df[df['winner']==1]\n",
    "df_nom = df[df['winner']==0]\n",
    "diff = len(df[df['winner']==0]) - len(df[df['winner']==1])\n",
    "print(\"Diff: \"+str(diff))\n",
    "figure(figsize=(5, 5), dpi=80)\n",
    "df['winner'].value_counts().plot(kind='bar')\n",
    "\n",
    "pyplot.xticks(rotation = 90)\n",
    "plt.title(\"Distribution of Winners before resampling\")\n",
    "pyplot.show()"
   ]
  },
  {
   "cell_type": "markdown",
   "id": "adfb1317-c5fd-4a18-98c0-286a5347d708",
   "metadata": {},
   "source": [
    "#### Random Sampling with Replacement"
   ]
  },
  {
   "cell_type": "code",
   "execution_count": 106,
   "id": "ace4f605-5b74-4750-a9f5-aade2fb5373e",
   "metadata": {},
   "outputs": [
    {
     "name": "stdout",
     "output_type": "stream",
     "text": [
      "8268\n"
     ]
    }
   ],
   "source": [
    "from random import choices\n",
    "df_smpld = df_win.iloc[np.random.randint(0, len(df_win), size=diff)]\n",
    "print(len(df_smpld))\n",
    "df = pd.concat([df, df_smpld], axis=0)"
   ]
  },
  {
   "cell_type": "code",
   "execution_count": 107,
   "id": "148cf58f-def8-4560-a1f5-514a047c72c9",
   "metadata": {},
   "outputs": [
    {
     "name": "stdout",
     "output_type": "stream",
     "text": [
      "Non-Winners Count: 8909\n",
      "Winners Count:8909\n",
      "Diff: 0\n"
     ]
    },
    {
     "data": {
      "image/png": "[encoded data removed]",
      "text/plain": [
       "<Figure size 400x400 with 1 Axes>"
      ]
     },
     "metadata": {
      "needs_background": "light"
     },
     "output_type": "display_data"
    }
   ],
   "source": [
    "\n",
    "print('Non-Winners Count: '+str(len(df[df['winner']==0])))\n",
    "print('Winners Count:'+ str(len(df[df['winner']==1])))\n",
    "diff = len(df[df['winner']==0]) - len(df[df['winner']==1])\n",
    "print(\"Diff: \"+str(diff))\n",
    "figure(figsize=(5, 5), dpi=80)\n",
    "df['winner'].value_counts().plot(kind='bar')\n",
    "\n",
    "pyplot.xticks(rotation = 90)\n",
    "plt.title(\"Distribution after resampling\")\n",
    "pyplot.show()"
   ]
  },
  {
   "cell_type": "markdown",
   "id": "8967030e-b56f-4e22-8e4f-bd4516672527",
   "metadata": {},
   "source": [
    "#### Encode non-numeric features"
   ]
  },
  {
   "cell_type": "code",
   "execution_count": 109,
   "id": "83971fdc-eb61-4010-ba13-318ced35c2cc",
   "metadata": {},
   "outputs": [],
   "source": [
    "from sklearn import preprocessing\n",
    "\n",
    "le = preprocessing.LabelEncoder()\n",
    "le.fit(df[\"country\"])\n",
    "df['country_enc']=(le.transform(df[\"country\"]))\n",
    "\n",
    "le.fit(df[\"average_color\"])\n",
    "df['average_color_enc']=(le.transform(df[\"average_color\"]))\n",
    "\n",
    "le.fit(df[\"dominant_color\"])\n",
    "df['dominant_color_enc']=(le.transform(df[\"dominant_color\"]))"
   ]
  },
  {
   "cell_type": "code",
   "execution_count": 205,
   "id": "1d6d3c99-3bd4-45cc-9644-f3cf16921384",
   "metadata": {},
   "outputs": [
    {
     "data": {
      "text/html": [
       "<div>\n",
       "<style scoped>\n",
       "    .dataframe tbody tr th:only-of-type {\n",
       "        vertical-align: middle;\n",
       "    }\n",
       "\n",
       "    .dataframe tbody tr th {\n",
       "        vertical-align: top;\n",
       "    }\n",
       "\n",
       "    .dataframe thead th {\n",
       "        text-align: right;\n",
       "    }\n",
       "</style>\n",
       "<table border=\"1\" class=\"dataframe\">\n",
       "  <thead>\n",
       "    <tr style=\"text-align: right;\">\n",
       "      <th></th>\n",
       "      <th>hash</th>\n",
       "      <th>site_nm</th>\n",
       "      <th>date</th>\n",
       "      <th>country</th>\n",
       "      <th>img_url</th>\n",
       "      <th>img_full_nm</th>\n",
       "      <th>winner</th>\n",
       "      <th>404_error</th>\n",
       "      <th>unique_color_count_50</th>\n",
       "      <th>average_color</th>\n",
       "      <th>dominant_color</th>\n",
       "      <th>weekday</th>\n",
       "      <th>day</th>\n",
       "      <th>year</th>\n",
       "      <th>month</th>\n",
       "      <th>country_enc</th>\n",
       "      <th>average_color_enc</th>\n",
       "      <th>dominant_color_enc</th>\n",
       "    </tr>\n",
       "  </thead>\n",
       "  <tbody>\n",
       "    <tr>\n",
       "      <th>0</th>\n",
       "      <td>f810500fcf4ffdbd89571a469951c835</td>\n",
       "      <td>July</td>\n",
       "      <td>2022-06-10</td>\n",
       "      <td>United States</td>\n",
       "      <td>https://assets.awwwards.com/awards/media/cache...</td>\n",
       "      <td>f810500fcf4ffdbd89571a469951c835.png</td>\n",
       "      <td>0.0</td>\n",
       "      <td>0.0</td>\n",
       "      <td>1660.0</td>\n",
       "      <td>#ffffff</td>\n",
       "      <td>#000000</td>\n",
       "      <td>4</td>\n",
       "      <td>10</td>\n",
       "      <td>2022</td>\n",
       "      <td>6</td>\n",
       "      <td>96</td>\n",
       "      <td>7</td>\n",
       "      <td>0</td>\n",
       "    </tr>\n",
       "    <tr>\n",
       "      <th>1</th>\n",
       "      <td>147fd1ccb1a369fa1663d26dfff9bdd9</td>\n",
       "      <td>Shaping Better Maritime World</td>\n",
       "      <td>2022-05-06</td>\n",
       "      <td>France</td>\n",
       "      <td>https://assets.awwwards.com/awards/media/cache...</td>\n",
       "      <td>147fd1ccb1a369fa1663d26dfff9bdd9.jpg</td>\n",
       "      <td>0.0</td>\n",
       "      <td>0.0</td>\n",
       "      <td>1327.0</td>\n",
       "      <td>#ff0000</td>\n",
       "      <td>#000000</td>\n",
       "      <td>4</td>\n",
       "      <td>6</td>\n",
       "      <td>2022</td>\n",
       "      <td>5</td>\n",
       "      <td>30</td>\n",
       "      <td>4</td>\n",
       "      <td>0</td>\n",
       "    </tr>\n",
       "    <tr>\n",
       "      <th>2</th>\n",
       "      <td>e077a8deb52eb3dc2560248fb6b2fb2f</td>\n",
       "      <td>No Fun Studio</td>\n",
       "      <td>2022-03-30</td>\n",
       "      <td>United States</td>\n",
       "      <td>https://assets.awwwards.com/awards/media/cache...</td>\n",
       "      <td>e077a8deb52eb3dc2560248fb6b2fb2f.png</td>\n",
       "      <td>0.0</td>\n",
       "      <td>0.0</td>\n",
       "      <td>1312.0</td>\n",
       "      <td>#ffffff</td>\n",
       "      <td>#ffffff</td>\n",
       "      <td>2</td>\n",
       "      <td>30</td>\n",
       "      <td>2022</td>\n",
       "      <td>3</td>\n",
       "      <td>96</td>\n",
       "      <td>7</td>\n",
       "      <td>7</td>\n",
       "    </tr>\n",
       "    <tr>\n",
       "      <th>3</th>\n",
       "      <td>9313bd9422860e60229e52f2f5f8dafd</td>\n",
       "      <td>Dynamic Solution</td>\n",
       "      <td>2022-03-29</td>\n",
       "      <td>Germany</td>\n",
       "      <td>https://assets.awwwards.com/awards/media/cache...</td>\n",
       "      <td>9313bd9422860e60229e52f2f5f8dafd.jpg</td>\n",
       "      <td>0.0</td>\n",
       "      <td>0.0</td>\n",
       "      <td>525.0</td>\n",
       "      <td>#000000</td>\n",
       "      <td>#000000</td>\n",
       "      <td>1</td>\n",
       "      <td>29</td>\n",
       "      <td>2022</td>\n",
       "      <td>3</td>\n",
       "      <td>32</td>\n",
       "      <td>0</td>\n",
       "      <td>0</td>\n",
       "    </tr>\n",
       "    <tr>\n",
       "      <th>4</th>\n",
       "      <td>f14a4c67cadf1cfb5d6b9cb8ec2c432a</td>\n",
       "      <td>AllCaps</td>\n",
       "      <td>2022-03-28</td>\n",
       "      <td>Czech Republic</td>\n",
       "      <td>https://assets.awwwards.com/awards/media/cache...</td>\n",
       "      <td>f14a4c67cadf1cfb5d6b9cb8ec2c432a.png</td>\n",
       "      <td>0.0</td>\n",
       "      <td>0.0</td>\n",
       "      <td>309.0</td>\n",
       "      <td>#ffffff</td>\n",
       "      <td>#ffffff</td>\n",
       "      <td>0</td>\n",
       "      <td>28</td>\n",
       "      <td>2022</td>\n",
       "      <td>3</td>\n",
       "      <td>23</td>\n",
       "      <td>7</td>\n",
       "      <td>7</td>\n",
       "    </tr>\n",
       "  </tbody>\n",
       "</table>\n",
       "</div>"
      ],
      "text/plain": [
       "                               hash                        site_nm       date  \\\n",
       "0  f810500fcf4ffdbd89571a469951c835                           July 2022-06-10   \n",
       "1  147fd1ccb1a369fa1663d26dfff9bdd9  Shaping Better Maritime World 2022-05-06   \n",
       "2  e077a8deb52eb3dc2560248fb6b2fb2f                  No Fun Studio 2022-03-30   \n",
       "3  9313bd9422860e60229e52f2f5f8dafd               Dynamic Solution 2022-03-29   \n",
       "4  f14a4c67cadf1cfb5d6b9cb8ec2c432a                        AllCaps 2022-03-28   \n",
       "\n",
       "          country                                            img_url  \\\n",
       "0   United States  https://assets.awwwards.com/awards/media/cache...   \n",
       "1          France  https://assets.awwwards.com/awards/media/cache...   \n",
       "2   United States  https://assets.awwwards.com/awards/media/cache...   \n",
       "3         Germany  https://assets.awwwards.com/awards/media/cache...   \n",
       "4  Czech Republic  https://assets.awwwards.com/awards/media/cache...   \n",
       "\n",
       "                            img_full_nm  winner  404_error  \\\n",
       "0  f810500fcf4ffdbd89571a469951c835.png     0.0        0.0   \n",
       "1  147fd1ccb1a369fa1663d26dfff9bdd9.jpg     0.0        0.0   \n",
       "2  e077a8deb52eb3dc2560248fb6b2fb2f.png     0.0        0.0   \n",
       "3  9313bd9422860e60229e52f2f5f8dafd.jpg     0.0        0.0   \n",
       "4  f14a4c67cadf1cfb5d6b9cb8ec2c432a.png     0.0        0.0   \n",
       "\n",
       "   unique_color_count_50 average_color dominant_color  weekday  day  year  \\\n",
       "0                 1660.0       #ffffff        #000000        4   10  2022   \n",
       "1                 1327.0       #ff0000        #000000        4    6  2022   \n",
       "2                 1312.0       #ffffff        #ffffff        2   30  2022   \n",
       "3                  525.0       #000000        #000000        1   29  2022   \n",
       "4                  309.0       #ffffff        #ffffff        0   28  2022   \n",
       "\n",
       "   month  country_enc  average_color_enc  dominant_color_enc  \n",
       "0      6           96                  7                   0  \n",
       "1      5           30                  4                   0  \n",
       "2      3           96                  7                   7  \n",
       "3      3           32                  0                   0  \n",
       "4      3           23                  7                   7  "
      ]
     },
     "execution_count": 205,
     "metadata": {},
     "output_type": "execute_result"
    }
   ],
   "source": [
    "df.head()"
   ]
  },
  {
   "cell_type": "markdown",
   "id": "f8268062-6605-4abb-99db-648bc20d6685",
   "metadata": {},
   "source": [
    "#### Remove unnecessary columns"
   ]
  },
  {
   "cell_type": "code",
   "execution_count": 406,
   "id": "6ea5aed4-4fd8-41c7-b764-a22c5ec0326f",
   "metadata": {},
   "outputs": [],
   "source": [
    "corr_cols = ['winner', 'day','month','year','country_enc','average_color_enc','dominant_color_enc', 'unique_color_count_50']\n",
    "cols = ['day','month','year','country_enc','average_color_enc','dominant_color_enc', 'unique_color_count_50']\n",
    "data = df[cols]\n",
    "target = df['winner']"
   ]
  },
  {
   "cell_type": "code",
   "execution_count": 407,
   "id": "24e223aa-6cf2-4a25-9b84-960e2d0637a8",
   "metadata": {},
   "outputs": [
    {
     "data": {
      "text/plain": [
       "(17818, 7)"
      ]
     },
     "execution_count": 407,
     "metadata": {},
     "output_type": "execute_result"
    }
   ],
   "source": [
    "data.shape"
   ]
  },
  {
   "cell_type": "code",
   "execution_count": 408,
   "id": "bd8f6e65-9009-4cbd-a72c-2da778d0a8f7",
   "metadata": {},
   "outputs": [
    {
     "data": {
      "text/plain": [
       "(17818,)"
      ]
     },
     "execution_count": 408,
     "metadata": {},
     "output_type": "execute_result"
    }
   ],
   "source": [
    "target.shape"
   ]
  },
  {
   "cell_type": "code",
   "execution_count": 409,
   "id": "ebdc94a3-6f01-4b03-96d7-be4ddf5f551f",
   "metadata": {},
   "outputs": [
    {
     "data": {
      "image/png": "[encoded data removed]",
      "text/plain": [
       "<Figure size 432x288 with 2 Axes>"
      ]
     },
     "metadata": {},
     "output_type": "display_data"
    }
   ],
   "source": [
    "import seaborn as sn\n",
    "corrMatrix = df[corr_cols].corr()\n",
    "sn.heatmap(corrMatrix, annot=True)\n",
    "plt.show()"
   ]
  },
  {
   "cell_type": "code",
   "execution_count": 410,
   "id": "ec0d6a5f-a2e8-4f90-baf4-54ed7f2e7eef",
   "metadata": {},
   "outputs": [],
   "source": [
    "from sklearn.model_selection import train_test_split\n",
    "X_train, X_test, y_train, y_test = train_test_split(\n",
    "    data, target, random_state=0)"
   ]
  },
  {
   "cell_type": "code",
   "execution_count": 411,
   "id": "455e8c0f-043a-4b81-b9fb-dcc4a8a48572",
   "metadata": {},
   "outputs": [
    {
     "name": "stdout",
     "output_type": "stream",
     "text": [
      "X_train shape: (13363, 7)\n",
      "y_train shape: (13363,)\n"
     ]
    }
   ],
   "source": [
    "print(\"X_train shape:\", X_train.shape)\n",
    "print(\"y_train shape:\", y_train.shape)"
   ]
  },
  {
   "cell_type": "code",
   "execution_count": 412,
   "id": "1376dc42-8ea8-4510-8525-727772f65846",
   "metadata": {},
   "outputs": [
    {
     "name": "stdout",
     "output_type": "stream",
     "text": [
      "X_test shape: (4455, 7)\n",
      "y_test shape: (4455,)\n"
     ]
    }
   ],
   "source": [
    "print(\"X_test shape:\", X_test.shape)\n",
    "print(\"y_test shape:\", y_test.shape)"
   ]
  },
  {
   "cell_type": "code",
   "execution_count": 413,
   "id": "76dd47f5-5271-400f-9d26-59f854dade5f",
   "metadata": {},
   "outputs": [
    {
     "data": {
      "text/plain": [
       "KNeighborsClassifier(n_neighbors=3)"
      ]
     },
     "execution_count": 413,
     "metadata": {},
     "output_type": "execute_result"
    }
   ],
   "source": [
    "from sklearn.neighbors import KNeighborsClassifier\n",
    "knn = KNeighborsClassifier(n_neighbors=3)\n",
    "\n",
    "knn.fit(X_train, y_train)"
   ]
  },
  {
   "cell_type": "code",
   "execution_count": 414,
   "id": "72b6ef57-d775-4100-b0df-b3875350c3a1",
   "metadata": {},
   "outputs": [
    {
     "name": "stdout",
     "output_type": "stream",
     "text": [
      "Model score:\n",
      "0.9099887766554433\n"
     ]
    }
   ],
   "source": [
    "print(\"Model score:\")\n",
    "print(knn.score(X_test,y_test))"
   ]
  },
  {
   "cell_type": "code",
   "execution_count": 415,
   "id": "dec07eaa-b82c-4d23-8d99-b084b5b61043",
   "metadata": {},
   "outputs": [],
   "source": [
    "no_neighbors = np.arange(2, 20)\n",
    "train_accuracy = np.empty(len(no_neighbors))\n",
    "test_accuracy = np.empty(len(no_neighbors))"
   ]
  },
  {
   "cell_type": "code",
   "execution_count": 416,
   "id": "9a5a3894-cfc3-4967-9f64-d7fc2bb73fdb",
   "metadata": {},
   "outputs": [
    {
     "data": {
      "text/plain": [
       "Index(['day', 'month', 'year', 'country_enc', 'average_color_enc',\n",
       "       'dominant_color_enc', 'unique_color_count_50'],\n",
       "      dtype='object')"
      ]
     },
     "execution_count": 416,
     "metadata": {},
     "output_type": "execute_result"
    }
   ],
   "source": [
    "data.columns"
   ]
  },
  {
   "cell_type": "code",
   "execution_count": 424,
   "id": "027a7775-3bfc-49f1-9afd-8426428c0b25",
   "metadata": {},
   "outputs": [
    {
     "data": {
      "image/png": "[encoded data removed]",
      "text/plain": [
       "<Figure size 432x288 with 1 Axes>"
      ]
     },
     "metadata": {},
     "output_type": "display_data"
    },
    {
     "name": "stdout",
     "output_type": "stream",
     "text": [
      "2: 0.9549\n",
      "3: 0.91\n",
      "4: 0.91\n",
      "5: 0.8716\n",
      "6: 0.8691\n",
      "7: 0.8368\n",
      "8: 0.8352\n",
      "9: 0.8067\n",
      "10: 0.7969\n",
      "11: 0.7708\n",
      "12: 0.7603\n",
      "13: 0.7407\n",
      "14: 0.7311\n",
      "15: 0.7149\n",
      "16: 0.7051\n",
      "17: 0.6947\n",
      "18: 0.6893\n",
      "19: 0.686\n"
     ]
    }
   ],
   "source": [
    "for i, k in enumerate(no_neighbors):\n",
    "    knn = KNeighborsClassifier(n_neighbors=k)\n",
    "    knn.fit(X_train,y_train)\n",
    "    \n",
    "    # Compute accuracy on the training set\n",
    "    train_accuracy[i] = knn.score(X_train, y_train)\n",
    "    # Compute accuracy on the testing set\n",
    "    test_accuracy[i] = knn.score(X_test, y_test)\n",
    "\n",
    "# Visualization of k values vs accuracy\n",
    "plt.title('k-NN: Varying Number of Neighbors')\n",
    "plt.plot(no_neighbors, test_accuracy, label = 'Testing Accuracy')\n",
    "plt.plot(no_neighbors, train_accuracy, label = 'Training Accuracy')\n",
    "plt.legend()\n",
    "plt.xlabel('Number of Neighbors')\n",
    "plt.ylabel('Accuracy')\n",
    "plt.show()\n",
    "\n",
    "n=0\n",
    "for i in test_accuracy:\n",
    "    print(str(no_neighbors[n])+\": \"+str(round(i,4)))\n",
    "    n = n+1"
   ]
  },
  {
   "cell_type": "code",
   "execution_count": 432,
   "id": "74bd70e2-8a38-4703-8442-bd4a8a01a715",
   "metadata": {},
   "outputs": [
    {
     "name": "stdout",
     "output_type": "stream",
     "text": [
      "              precision    recall  f1-score   support\n",
      "\n",
      "         0.0       1.00      0.91      0.95      2204\n",
      "         1.0       0.92      1.00      0.96      2251\n",
      "\n",
      "    accuracy                           0.95      4455\n",
      "   macro avg       0.96      0.95      0.95      4455\n",
      "weighted avg       0.96      0.95      0.95      4455\n",
      "\n"
     ]
    }
   ],
   "source": [
    "from sklearn.metrics import classification_report\n",
    "from sklearn.metrics import confusion_matrix\n",
    "\n",
    "model = KNeighborsClassifier(n_neighbors = 2)\n",
    "model.fit(X_train, y_train)\n",
    "predictions = model.predict(X_test)\n",
    "print(classification_report(y_test, predictions))"
   ]
  },
  {
   "cell_type": "code",
   "execution_count": null,
   "id": "2557fea1-160d-46c0-bf54-598fd7c730bb",
   "metadata": {},
   "outputs": [],
   "source": []
  }
 ],
 "metadata": {
  "kernelspec": {
   "display_name": "Python 3",
   "language": "python",
   "name": "python3"
  },
  "language_info": {
   "codemirror_mode": {
    "name": "ipython",
    "version": 3
   },
   "file_extension": ".py",
   "mimetype": "text/x-python",
   "name": "python",
   "nbconvert_exporter": "python",
   "pygments_lexer": "ipython3",
   "version": "3.8.8"
  }
 },
 "nbformat": 4,
 "nbformat_minor": 5
}
